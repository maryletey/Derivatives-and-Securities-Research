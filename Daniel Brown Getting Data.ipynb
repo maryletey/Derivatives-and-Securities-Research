{
 "cells": [
  {
   "cell_type": "code",
   "execution_count": 1,
   "metadata": {
    "collapsed": true
   },
   "outputs": [],
   "source": [
    "# Imports\n",
    "import pandas as pd\n",
    "import time\n",
    "from bs4 import BeautifulSoup\n",
    "import urllib3"
   ]
  },
  {
   "cell_type": "code",
   "execution_count": 2,
   "metadata": {
    "collapsed": true
   },
   "outputs": [],
   "source": [
    "# Get the data from a specific dat file\n",
    "def getDatData(filename):\n",
    "    with open(filename,'r') as f:\n",
    "        next(f) # skip first row\n",
    "        df = pd.DataFrame(l.rstrip().split() for l in f)\n",
    "    return df"
   ]
  },
  {
   "cell_type": "code",
   "execution_count": 3,
   "metadata": {
    "collapsed": true
   },
   "outputs": [],
   "source": [
    "def getDate():\n",
    "    date = time.strftime('%a, %d %b %Y %H:%M:%S', time.gmtime())\n",
    "    date = date.split(' ')\n",
    "    Time = date[len(date)-1]\n",
    "    Time = Time.split(':')\n",
    "    Time[0] = str(int(Time[0])-7)\n",
    "    Str = ''\n",
    "    for i in range(len(Time)):\n",
    "        Str += Time[i]\n",
    "        if i < len(Time)-1:\n",
    "            Str += ':'\n",
    "    date[len(date)-1] = Str\n",
    "    return date"
   ]
  },
  {
   "cell_type": "code",
   "execution_count": 4,
   "metadata": {},
   "outputs": [],
   "source": [
    "#df.to_csv('dbtest.csv', '\\t', header=False, index=False)"
   ]
  },
  {
   "cell_type": "code",
   "execution_count": 5,
   "metadata": {},
   "outputs": [],
   "source": [
    "# while True:\n",
    "#     # Get the date\n",
    "#     date = getDate()\n",
    "#     # Get the data\n",
    "#     if date[0] == 'Mon' or date[0] == 'Wed' or date[0] == 'Fri':\n",
    "#         if date[len(date)-1] == '11:00:00':\n",
    "            "
   ]
  },
  {
   "cell_type": "code",
   "execution_count": 6,
   "metadata": {},
   "outputs": [],
   "source": [
    "# import urllib3\n",
    "# url = \"http://download.thinkbroadband.com/10MB.zip\"\n",
    "# file_name = url.split('/')[-1]\n",
    "# u = urllib3.urlopen(url)\n",
    "# f = open(file_name, 'wb')\n",
    "# meta = u.info()\n",
    "# file_size = int(meta.getheaders(\"Content-Length\")[0])\n",
    "# print(\"Downloading: %s Bytes: %s\".format(file_name, file_size))\n",
    "# file_size_dl = 0 \n",
    "# block_sz = 8192 \n",
    "# while True: \n",
    "#     buffer = u.read(block_sz) \n",
    "#     if not buffer: \n",
    "#         break \n",
    "#         file_size_dl += len(buffer) \n",
    "#         f.write(buffer) \n",
    "#         status = r\"%10d [%3.2f%%]\" % (file_size_dl, file_size_dl * 100. / file_size)\n",
    "#         status = status + chr(8)*(len(status)+1) \n",
    "#         print(status)\n",
    "# f.close()"
   ]
  },
  {
   "cell_type": "code",
   "execution_count": 9,
   "metadata": {},
   "outputs": [
    {
     "ename": "ModuleNotFoundError",
     "evalue": "No module named 'wget'",
     "output_type": "error",
     "traceback": [
      "\u001b[0;31m---------------------------------------------------------------------------\u001b[0m",
      "\u001b[0;31mModuleNotFoundError\u001b[0m                       Traceback (most recent call last)",
      "\u001b[0;32m<ipython-input-9-7dd5a12d527a>\u001b[0m in \u001b[0;36m<module>\u001b[0;34m()\u001b[0m\n\u001b[0;32m----> 1\u001b[0;31m \u001b[0;32mimport\u001b[0m \u001b[0mwget\u001b[0m\u001b[0;34m\u001b[0m\u001b[0m\n\u001b[0m\u001b[1;32m      2\u001b[0m \u001b[0;34m\u001b[0m\u001b[0m\n\u001b[1;32m      3\u001b[0m \u001b[0mfile_url\u001b[0m \u001b[0;34m=\u001b[0m \u001b[0;34m'http://www.cboe.com/delayedquote/quote-table-download'\u001b[0m\u001b[0;34m\u001b[0m\u001b[0m\n\u001b[1;32m      4\u001b[0m \u001b[0;34m\u001b[0m\u001b[0m\n\u001b[1;32m      5\u001b[0m \u001b[0mfile_name\u001b[0m \u001b[0;34m=\u001b[0m \u001b[0mwget\u001b[0m\u001b[0;34m.\u001b[0m\u001b[0mdownload\u001b[0m\u001b[0;34m(\u001b[0m\u001b[0mfile_url\u001b[0m\u001b[0;34m)\u001b[0m\u001b[0;34m\u001b[0m\u001b[0m\n",
      "\u001b[0;31mModuleNotFoundError\u001b[0m: No module named 'wget'"
     ]
    }
   ],
   "source": [
    "import wget\n",
    "\n",
    "file_url = 'http://www.cboe.com/delayedquote/quote-table-download'\n",
    "\n",
    "file_name = wget.download(file_url)"
   ]
  },
  {
   "cell_type": "code",
   "execution_count": null,
   "metadata": {
    "collapsed": true
   },
   "outputs": [],
   "source": []
  }
 ],
 "metadata": {
  "kernelspec": {
   "display_name": "Python 3",
   "language": "python",
   "name": "python3"
  },
  "language_info": {
   "codemirror_mode": {
    "name": "ipython",
    "version": 3
   },
   "file_extension": ".py",
   "mimetype": "text/x-python",
   "name": "python",
   "nbconvert_exporter": "python",
   "pygments_lexer": "ipython3",
   "version": "3.6.2"
  }
 },
 "nbformat": 4,
 "nbformat_minor": 2
}
